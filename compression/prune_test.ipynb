{
 "cells": [
  {
   "cell_type": "code",
   "execution_count": null,
   "metadata": {},
   "outputs": [],
   "source": [
    "from vgg16 import vgg16\n",
    "import os\n",
    "import numpy as np\n",
    "import torch\n",
    "import torch.nn as nn\n",
    "import torch.nn.functional as F\n",
    "import torch.optim as optim\n",
    "from torchvision import datasets, transforms\n",
    "from tqdm import tqdm"
   ]
  },
  {
   "cell_type": "code",
   "execution_count": null,
   "metadata": {},
   "outputs": [],
   "source": [
    "class PruneConfig():\n",
    "    def __init__(self):\n",
    "        self.batch_size = 64\n",
    "        self.epochs = 100\n",
    "        self.lr = 0.01\n",
    "        self.cuda = False\n",
    "        self.seed = 42\n",
    "        self.log_rate = 10\n",
    "        self.log_file = \"log.txt\"\n",
    "        self.sensitivity = 2\n",
    "        self.debug = True\n",
    "cfg = PruneConfig()"
   ]
  },
  {
   "cell_type": "code",
   "execution_count": null,
   "metadata": {},
   "outputs": [],
   "source": [
    "torch.manual_seed(cfg.seed)"
   ]
  },
  {
   "cell_type": "code",
   "execution_count": null,
   "metadata": {},
   "outputs": [],
   "source": [
    "if cfg.cuda:\n",
    "    print(\"Using CUDA\")\n",
    "    torch.cuda.manual_seed(cfg.seed)\n",
    "else:\n",
    "    print(\"No CUDA\")\n",
    "kwargs = {'num_workers': 5, 'pin_memory': True} if cfg.cuda else {}"
   ]
  },
  {
   "cell_type": "markdown",
   "metadata": {},
   "source": [
    "### Use Toy MNIST Data\n",
    "**Pad to 224x244x1 since VGG16 originally takes in images of those size, so essentially this is just really really bad toy data**"
   ]
  },
  {
   "cell_type": "code",
   "execution_count": null,
   "metadata": {},
   "outputs": [],
   "source": [
    "train_loader = torch.utils.data.DataLoader(datasets.MNIST('data', train=True, download=True,\n",
    "                                                         transform=transforms.Compose([\n",
    "                                                             transforms.Pad(98),\n",
    "                                                             transforms.ToTensor(),\n",
    "                                                             transforms.Normalize((0.1307,),(0.3081,))\n",
    "                                                         ])),\n",
    "                                          batch_size=cfg.batch_size,\n",
    "                                          shuffle=True,\n",
    "                                          **kwargs)\n",
    "\n",
    "test_loader = torch.utils.data.DataLoader(datasets.MNIST('data', train=False, download=True,\n",
    "                                                         transform=transforms.Compose([\n",
    "                                                             transforms.ToTensor(),\n",
    "                                                             transforms.Normalize((0.1307,),(0.3081,))\n",
    "                                                         ])),\n",
    "                                          batch_size=cfg.batch_size,\n",
    "                                          shuffle=False,\n",
    "                                          **kwargs)"
   ]
  },
  {
   "cell_type": "code",
   "execution_count": null,
   "metadata": {},
   "outputs": [],
   "source": [
    "dev = torch.device(\"cuda\" if cfg.cuda else 'cpu')\n",
    "model = vgg16(pretrained=True, mask=True, debug=cfg.debug, in_channels=3).to(dev)"
   ]
  },
  {
   "cell_type": "code",
   "execution_count": null,
   "metadata": {},
   "outputs": [],
   "source": [
    "optimizer = optim.Adam(filter(lambda p: p.requires_grad, model.parameters()), lr=cfg.lr, weight_decay=0.0001)\n",
    "optim_state_dict = optimizer.state_dict()\n",
    "criterion = torch.nn.CrossEntropyLoss()"
   ]
  },
  {
   "cell_type": "code",
   "execution_count": null,
   "metadata": {},
   "outputs": [],
   "source": [
    "def train(epochs):\n",
    "    model.train()\n",
    "    tmp_loss = []\n",
    "    for epoch_i in range(epochs):\n",
    "        loss = 0\n",
    "        pbar = tqdm(enumerate(train_loader), total=len(train_loader))\n",
    "        for batch_i, (x_in, y_in) in pbar:\n",
    "            x_in = torch.cat([x_in, x_in, x_in], dim=1)\n",
    "            x_in, y_in = x_in.to(dev), y_in.to(dev)\n",
    "            optimizer.zero_grad()\n",
    "            output = model(x_in)\n",
    "            loss = criterion(output, y_in)\n",
    "            curr_loss = loss.item() / cfg.batch_size\n",
    "            loss.backward()\n",
    "            tmp_loss.append(curr_loss)\n",
    "            \n",
    "            # zero out pruned connections\n",
    "            for name, p in model.named_parameters():\n",
    "                if \"mask\" in name:\n",
    "                    continue\n",
    "                tensor = p.data.cpu().numpy()\n",
    "                grad_tensor = p.grad.data.cpu().numpy()\n",
    "                grad_tensor = np.where(tensor==0, 0, grad_tensor)\n",
    "                p.grad.data = torch.from_numpy(grad_tensor).to(dev)\n",
    "            optimizer.step()\n",
    "            if batch_i % cfg.log_rate == 0:\n",
    "                done = batch_i * len(x_in)\n",
    "                percentage = 100. * batch_i / len(train_loader)\n",
    "                avg_loss = sum(tmp_loss)/len(tmp_loss)\n",
    "                tmp_loss = []\n",
    "                pbar.set_description(f\"Train Epoch: {epoch_i} [{done:5}/{len(train_loader.dataset)} ({percentage:3.0f}%)] Loss: {avg_loss:.6f}\")\n"
   ]
  },
  {
   "cell_type": "code",
   "execution_count": null,
   "metadata": {},
   "outputs": [],
   "source": [
    "train(cfg.epochs)"
   ]
  },
  {
   "cell_type": "code",
   "execution_count": null,
   "metadata": {},
   "outputs": [],
   "source": []
  }
 ],
 "metadata": {
  "kernelspec": {
   "display_name": "torch4",
   "language": "python",
   "name": "torch4"
  },
  "language_info": {
   "codemirror_mode": {
    "name": "ipython",
    "version": 3
   },
   "file_extension": ".py",
   "mimetype": "text/x-python",
   "name": "python",
   "nbconvert_exporter": "python",
   "pygments_lexer": "ipython3",
   "version": "3.6.4"
  }
 },
 "nbformat": 4,
 "nbformat_minor": 2
}
