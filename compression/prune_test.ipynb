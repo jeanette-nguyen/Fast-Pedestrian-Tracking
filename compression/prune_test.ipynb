{
 "cells": [
  {
   "cell_type": "code",
   "execution_count": 5,
   "metadata": {},
   "outputs": [],
   "source": [
    "from vgg16 import vgg16\n",
    "import os\n",
    "import numpy as np\n",
    "import torch\n",
    "import torch.nn as nn\n",
    "import torch.nn.functional as F\n",
    "import torch.optim as optim\n",
    "from torchvision import datasets, transforms\n",
    "from tqdm import tqdm"
   ]
  },
  {
   "cell_type": "code",
   "execution_count": 4,
   "metadata": {},
   "outputs": [],
   "source": [
    "class PruneConfig():\n",
    "    def __init__(self):\n",
    "        self.batch_size = 50\n",
    "        self.epochs = 100\n",
    "        self.lr = 0.01\n",
    "        self.cuda = True\n",
    "        self.seed = 42\n",
    "        self.log_rate = 10\n",
    "        self.log_file = \"log.txt\"\n",
    "        self.sensitivity = 2\n",
    "cfg = PruneConfig()"
   ]
  },
  {
   "cell_type": "code",
   "execution_count": 6,
   "metadata": {},
   "outputs": [
    {
     "data": {
      "text/plain": [
       "<torch._C.Generator at 0x7f41f1e86230>"
      ]
     },
     "execution_count": 6,
     "metadata": {},
     "output_type": "execute_result"
    }
   ],
   "source": [
    "torch.manual_seed(cfg.seed)"
   ]
  },
  {
   "cell_type": "code",
   "execution_count": 7,
   "metadata": {},
   "outputs": [
    {
     "name": "stdout",
     "output_type": "stream",
     "text": [
      "Using CUDA\n"
     ]
    }
   ],
   "source": [
    "if cfg.cuda:\n",
    "    print(\"Using CUDA\")\n",
    "    torch.cuda.manual_seed(cfg.seed)\n",
    "else:\n",
    "    print(\"No CUDA\")\n",
    "kwargs = {'num_workers': 5, 'pin_memory': True} if cfg.cuda else {}"
   ]
  },
  {
   "cell_type": "markdown",
   "metadata": {},
   "source": [
    "### Use Toy MNIST Data"
   ]
  },
  {
   "cell_type": "code",
   "execution_count": 8,
   "metadata": {},
   "outputs": [
    {
     "name": "stdout",
     "output_type": "stream",
     "text": [
      "Downloading http://yann.lecun.com/exdb/mnist/train-images-idx3-ubyte.gz\n",
      "Downloading http://yann.lecun.com/exdb/mnist/train-labels-idx1-ubyte.gz\n",
      "Downloading http://yann.lecun.com/exdb/mnist/t10k-images-idx3-ubyte.gz\n",
      "Downloading http://yann.lecun.com/exdb/mnist/t10k-labels-idx1-ubyte.gz\n",
      "Processing...\n",
      "Done!\n"
     ]
    }
   ],
   "source": [
    "train_loader = torch.utils.data.DataLoader(datasets.MNIST('data', train=True, download=True,\n",
    "                                                         transform=transforms.Compose([\n",
    "                                                             transforms.ToTensor(),\n",
    "                                                             transforms.Normalize((0.1307,),(0.3081,))\n",
    "                                                         ])),\n",
    "                                          batch_size=cfg.batch_size,\n",
    "                                          shuffle=True,\n",
    "                                          **kwargs)\n",
    "\n",
    "test_loader = torch.utils.data.DataLoader(datasets.MNIST('data', train=False, download=True,\n",
    "                                                         transform=transforms.Compose([\n",
    "                                                             transforms.ToTensor(),\n",
    "                                                             transforms.Normalize((0.1307,),(0.3081,))\n",
    "                                                         ])),\n",
    "                                          batch_size=cfg.batch_size,\n",
    "                                          shuffle=False,\n",
    "                                          **kwargs)"
   ]
  },
  {
   "cell_type": "code",
   "execution_count": 11,
   "metadata": {},
   "outputs": [],
   "source": [
    "dev = torch.device(\"cuda\" if cfg.cuda else 'cpu')\n",
    "model = vgg16(mask=True).to(dev)"
   ]
  },
  {
   "cell_type": "code",
   "execution_count": null,
   "metadata": {},
   "outputs": [],
   "source": []
  }
 ],
 "metadata": {
  "kernelspec": {
   "display_name": "Python 3",
   "language": "python",
   "name": "python3"
  },
  "language_info": {
   "codemirror_mode": {
    "name": "ipython",
    "version": 3
   },
   "file_extension": ".py",
   "mimetype": "text/x-python",
   "name": "python",
   "nbconvert_exporter": "python",
   "pygments_lexer": "ipython3",
   "version": "3.6.4"
  }
 },
 "nbformat": 4,
 "nbformat_minor": 2
}
